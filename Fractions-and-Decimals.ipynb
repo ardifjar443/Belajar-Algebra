{
 "cells": [
  {
   "cell_type": "markdown",
   "metadata": {},
   "source": [
    "# Fractions and Decimals"
   ]
  },
  {
   "cell_type": "markdown",
   "metadata": {},
   "source": [
    "Positive and negative exponents"
   ]
  },
  {
   "cell_type": "code",
   "execution_count": 1,
   "metadata": {},
   "outputs": [
    {
     "name": "stdout",
     "output_type": "stream",
     "text": [
      "10\n",
      "100\n",
      "1000\n",
      "1\n",
      "0.1\n",
      "0.01\n",
      "0.001\n"
     ]
    }
   ],
   "source": [
    "print(10**1)\n",
    "print(10**2)\n",
    "print(10**3)\n",
    "\n",
    "print(10**0)\n",
    "\n",
    "print(10**-1)\n",
    "print(10**-2)\n",
    "print(10**-3)"
   ]
  },
  {
   "cell_type": "markdown",
   "metadata": {},
   "source": [
    "mengganti input user yang bertipe string ke int atau ke float"
   ]
  },
  {
   "cell_type": "code",
   "execution_count": 3,
   "metadata": {},
   "outputs": [
    {
     "name": "stdout",
     "output_type": "stream",
     "text": [
      "10.123\n"
     ]
    }
   ],
   "source": [
    "text = input(\"Masukan angka: \")\n",
    "num = float(text)\n",
    "print(num+10)"
   ]
  },
  {
   "cell_type": "markdown",
   "metadata": {},
   "source": [
    "kita coba semua"
   ]
  },
  {
   "cell_type": "code",
   "execution_count": 9,
   "metadata": {},
   "outputs": [
    {
     "name": "stdout",
     "output_type": "stream",
     "text": [
      "desimalnya       :  10.0\n",
      " the frantions   :  100 / 10\n",
      " persentase      :  1000.0 %\n"
     ]
    }
   ],
   "source": [
    "digits = input(\"masukan angka untuk di konversi: \")\n",
    "\n",
    "exponent = int(len(digits))-1\n",
    "\n",
    "n = float(digits)\n",
    "\n",
    "numerator = int(n * 10**exponent)\n",
    "\n",
    "denominator = 10**exponent\n",
    "\n",
    "percent = n*100\n",
    "\n",
    "#output\n",
    "print('desimalnya       : ',n)\n",
    "print(' the frantions   : ',numerator,'/',denominator)\n",
    "print(' persentase      : ',percent,'%')"
   ]
  }
 ],
 "metadata": {
  "kernelspec": {
   "display_name": ".venv",
   "language": "python",
   "name": "python3"
  },
  "language_info": {
   "codemirror_mode": {
    "name": "ipython",
    "version": 3
   },
   "file_extension": ".py",
   "mimetype": "text/x-python",
   "name": "python",
   "nbconvert_exporter": "python",
   "pygments_lexer": "ipython3",
   "version": "3.11.4"
  },
  "orig_nbformat": 4
 },
 "nbformat": 4,
 "nbformat_minor": 2
}
