{
 "cells": [
  {
   "cell_type": "markdown",
   "metadata": {},
   "source": [
    "# solving for x extra"
   ]
  },
  {
   "cell_type": "markdown",
   "metadata": {},
   "source": [
    "## cara menampilkan solusi dengan berbagai cara"
   ]
  },
  {
   "cell_type": "markdown",
   "metadata": {},
   "source": [
    "Seperti di solving for x kita import lagi sympy tetapi panggil semua methodnya untuk kali ini"
   ]
  },
  {
   "cell_type": "code",
   "execution_count": 30,
   "metadata": {},
   "outputs": [
    {
     "data": {
      "text/plain": [
       "(x, y)"
      ]
     },
     "execution_count": 30,
     "metadata": {},
     "output_type": "execute_result"
    }
   ],
   "source": [
    "from sympy import *\n",
    "var(\"x y\")"
   ]
  },
  {
   "cell_type": "markdown",
   "metadata": {},
   "source": [
    "di solving for x kemarin kita menulis persamaan seperti dibawah tetapi hasil itu berbentuk list "
   ]
  },
  {
   "cell_type": "code",
   "execution_count": 31,
   "metadata": {},
   "outputs": [
    {
     "name": "stdout",
     "output_type": "stream",
     "text": [
      "x = [-2]\n"
     ]
    }
   ],
   "source": [
    "persamaan = 2*x + 4\n",
    "print(\"x =\",solve(persamaan,x))"
   ]
  },
  {
   "cell_type": "markdown",
   "metadata": {},
   "source": [
    "jika persamaan nya cuma menghasilkan 1 solosi bisa menggunakan cara yang dibawah"
   ]
  },
  {
   "cell_type": "code",
   "execution_count": 32,
   "metadata": {},
   "outputs": [
    {
     "name": "stdout",
     "output_type": "stream",
     "text": [
      "x = -2\n"
     ]
    }
   ],
   "source": [
    "persamaan = 2*x + 4\n",
    "hasil = solve(persamaan,x)\n",
    "print(\"x =\",hasil[0])"
   ]
  },
  {
   "cell_type": "markdown",
   "metadata": {},
   "source": [
    "jika persamaan bisa menghasilkan 2 persamaan bisa menggunakan cara yang dibawah"
   ]
  },
  {
   "cell_type": "code",
   "execution_count": 33,
   "metadata": {},
   "outputs": [
    {
     "name": "stdout",
     "output_type": "stream",
     "text": [
      "x =  -2\n",
      "x =  2\n"
     ]
    }
   ],
   "source": [
    "persamaan = x**2 - 4\n",
    "hasil = solve(persamaan,x)\n",
    "for i in hasil:\n",
    "    print(\"x = \",i)"
   ]
  },
  {
   "cell_type": "markdown",
   "metadata": {},
   "source": [
    "## bagaimana jika persamaan nya seperti 2x+4 = 12"
   ]
  },
  {
   "cell_type": "markdown",
   "metadata": {},
   "source": [
    "karena secara default method solve itu menggunakan sama dengan 0"
   ]
  },
  {
   "cell_type": "code",
   "execution_count": 34,
   "metadata": {},
   "outputs": [
    {
     "name": "stdout",
     "output_type": "stream",
     "text": [
      "x =  -3\n"
     ]
    }
   ],
   "source": [
    "persamaan = 2*x+6\n",
    "hasil = solve(persamaan,x)\n",
    "print(\"x = \",hasil[0])"
   ]
  },
  {
   "cell_type": "markdown",
   "metadata": {},
   "source": [
    "bisa menggunakan method Eq seperti contoh dibawah dan hasilnya sama dengan yang diatas"
   ]
  },
  {
   "cell_type": "code",
   "execution_count": 35,
   "metadata": {},
   "outputs": [
    {
     "name": "stdout",
     "output_type": "stream",
     "text": [
      "x =  -3\n"
     ]
    }
   ],
   "source": [
    "persamaan = 2*x+6\n",
    "eql=Eq(persamaan,0) #paramater pertama untuk persamaannya dan yang kedua untuk equals atay sama dengan\n",
    "hasil = solve(eql,x)\n",
    "print(\"x = \",hasil[0])"
   ]
  },
  {
   "cell_type": "markdown",
   "metadata": {},
   "source": [
    "dan ini bisa juga tidak menggunakan 0 bisa pake angka yang lain"
   ]
  },
  {
   "cell_type": "code",
   "execution_count": 36,
   "metadata": {},
   "outputs": [
    {
     "name": "stdout",
     "output_type": "stream",
     "text": [
      "x =  8\n"
     ]
    }
   ],
   "source": [
    "persamaan = 6*x-36\n",
    "eql = Eq(persamaan,12)\n",
    "hasil = solve(eql,x)\n",
    "print('x = ',hasil[0])"
   ]
  },
  {
   "cell_type": "markdown",
   "metadata": {},
   "source": [
    "dan terakhir bisa juga menggunakan variable"
   ]
  },
  {
   "cell_type": "code",
   "execution_count": 37,
   "metadata": {},
   "outputs": [
    {
     "name": "stdout",
     "output_type": "stream",
     "text": [
      "x =  [y - 2]\n"
     ]
    }
   ],
   "source": [
    "persamaan = 2 + x\n",
    "eql = Eq(persamaan,y)\n",
    "hasil = solve(eql,x)\n",
    "print('x = ',hasil)"
   ]
  },
  {
   "cell_type": "markdown",
   "metadata": {},
   "source": [
    "## aplikasi sederhana untuk mencari solusi"
   ]
  },
  {
   "cell_type": "code",
   "execution_count": 40,
   "metadata": {},
   "outputs": [
    {
     "name": "stdout",
     "output_type": "stream",
     "text": [
      "x =  -2\n"
     ]
    }
   ],
   "source": [
    "persamaan = input(\"masukan persamaan: 0 = \")\n",
    "hasil = solve(persamaan,x)\n",
    "print('x = ',hasil[0])\n"
   ]
  },
  {
   "cell_type": "markdown",
   "metadata": {},
   "source": [
    "## memfaktorkan"
   ]
  },
  {
   "cell_type": "markdown",
   "metadata": {},
   "source": [
    "akan memfaktorkan eq = 2 * x + 10 * y + 4 dan eq1 = x**3 - x**2 -5*x + 6"
   ]
  },
  {
   "cell_type": "code",
   "execution_count": 42,
   "metadata": {},
   "outputs": [
    {
     "name": "stdout",
     "output_type": "stream",
     "text": [
      "faktor eq =  2*(x + 5*y + 2)\n",
      "faktor eq1 =  (x - 2)*(x**2 + x - 3)\n"
     ]
    }
   ],
   "source": [
    "eq =  2 * x + 10 * y + 4 \n",
    "eq1 = x**3 - x**2 -5*x + 6\n",
    "print('faktor eq = ',factor(eq))\n",
    "print('faktor eq1 = ',factor(eq1))"
   ]
  },
  {
   "cell_type": "markdown",
   "metadata": {},
   "source": [
    "## buat aplikasi tanya jawab sederhana"
   ]
  },
  {
   "cell_type": "markdown",
   "metadata": {},
   "source": [
    "bikin fungsi untuk mengubah dari string ke float/real dan jika user memasukan pecahan kita buat konversi ke float"
   ]
  },
  {
   "cell_type": "code",
   "execution_count": 55,
   "metadata": {},
   "outputs": [],
   "source": [
    "def stringToFloat(angka)->float:\n",
    "    if \"/\" in angka:\n",
    "        nd = angka.split(\"/\")\n",
    "        n = float(nd[0])\n",
    "        d = float(nd[1])\n",
    "        return n/d\n",
    "    else:\n",
    "        return float(angka)"
   ]
  },
  {
   "cell_type": "markdown",
   "metadata": {},
   "source": [
    "bikin method untuk bikin soal dan cek jawaban"
   ]
  },
  {
   "cell_type": "code",
   "execution_count": 52,
   "metadata": {},
   "outputs": [],
   "source": [
    "def latihanSoal():\n",
    "    import random # import random untuk buat angka random untuk soal\n",
    "    a = random.randint(1,11)\n",
    "    b = random.randint(2,22)\n",
    "    print(a,\"x = \",b)\n",
    "    jawaban = input(\"x =\")\n",
    "    hasil = b/a\n",
    "    if stringToFloat(jawaban)==hasil:\n",
    "        print(\"Jawaban anda benar\")\n",
    "    else:\n",
    "        print(\"Jawaban Anda salah Coba lagi\")\n",
    "        print(\"jawabannya adalah \",hasil)"
   ]
  },
  {
   "cell_type": "code",
   "execution_count": 59,
   "metadata": {},
   "outputs": [
    {
     "name": "stdout",
     "output_type": "stream",
     "text": [
      "2 x =  15\n",
      "Jawaban anda benar\n"
     ]
    }
   ],
   "source": [
    "latihanSoal()"
   ]
  }
 ],
 "metadata": {
  "kernelspec": {
   "display_name": ".venv",
   "language": "python",
   "name": "python3"
  },
  "language_info": {
   "codemirror_mode": {
    "name": "ipython",
    "version": 3
   },
   "file_extension": ".py",
   "mimetype": "text/x-python",
   "name": "python",
   "nbconvert_exporter": "python",
   "pygments_lexer": "ipython3",
   "version": "3.11.4"
  },
  "orig_nbformat": 4
 },
 "nbformat": 4,
 "nbformat_minor": 2
}
